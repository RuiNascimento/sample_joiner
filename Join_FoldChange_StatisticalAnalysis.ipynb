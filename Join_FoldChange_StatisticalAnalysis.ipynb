{
 "cells": [
  {
   "cell_type": "markdown",
   "metadata": {},
   "source": [
    "# Join Fold Change with Statistical analisys from MetaboAnalyst"
   ]
  },
  {
   "cell_type": "markdown",
   "metadata": {},
   "source": [
    "## First upload files to FoldChange_Statistical directory!!"
   ]
  },
  {
   "cell_type": "code",
   "execution_count": null,
   "metadata": {},
   "outputs": [],
   "source": [
    "import pandas as pd\n",
    "import ipywidgets as widgets\n",
    "import os\n",
    "\n",
    "style = {'description_width': 'initial'}\n",
    "\n",
    "fc = widgets.Dropdown(\n",
    "    options=os.listdir(\"FoldChange_Statistical/\"),\n",
    "    value=os.listdir(\"FoldChange_Statistical/\")[0],\n",
    "    description='Fold Change:', disabled=False\n",
    ")\n",
    "stat = widgets.Dropdown(\n",
    "    options=os.listdir(\"FoldChange_Statistical/\"),\n",
    "    value=os.listdir(\"FoldChange_Statistical/\")[0],\n",
    "    description='Statistical:', disabled=False\n",
    ")\n",
    "output_name = widgets.Text(\n",
    "    value='output', placeholder='Type something',\n",
    "    description='Output Name:', disabled=False, style=style\n",
    ")\n",
    "display(fc)\n",
    "display(stat)\n",
    "display(output_name)"
   ]
  },
  {
   "cell_type": "code",
   "execution_count": null,
   "metadata": {},
   "outputs": [],
   "source": [
    "stat_path = \"FoldChange_Statistical/\"+stat.value\n",
    "foldchange_path = \"FoldChange_Statistical/\"+fc.value\n",
    "statistic = pd.read_csv(stat_path, index_col=0).sort_index()\n",
    "foldchange = pd.read_csv(foldchange_path, index_col=0).sort_index()\n",
    "FD_statistic = pd.concat([foldchange, statistic], join='inner', axis=1)\n",
    "FD_statistic = FD_statistic.sort_values(by=[\"p.value\"])\n",
    "FD_wilcox.to_excel(\"FoldChange_Statistical/\"+output_name.value+\".xlsx\", index=True, index_label='m/z')\n",
    "print(\"Joinded\")"
   ]
  }
 ],
 "metadata": {
  "anaconda-cloud": {},
  "kernelspec": {
   "display_name": "Python 3",
   "language": "python",
   "name": "python3"
  },
  "language_info": {
   "codemirror_mode": {
    "name": "ipython",
    "version": 3
   },
   "file_extension": ".py",
   "mimetype": "text/x-python",
   "name": "python",
   "nbconvert_exporter": "python",
   "pygments_lexer": "ipython3",
   "version": "3.7.4"
  }
 },
 "nbformat": 4,
 "nbformat_minor": 1
}
