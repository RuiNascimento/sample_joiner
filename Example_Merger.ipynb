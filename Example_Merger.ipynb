{
 "cells": [
  {
   "cell_type": "markdown",
   "metadata": {},
   "source": [
    "# Merge samples into one dataset"
   ]
  },
  {
   "cell_type": "markdown",
   "metadata": {},
   "source": [
    "## First: Set parameters\n",
    "\n",
    "**error**: ppm tolerance for the deviation between m/z values of the same peak.\n",
    "\n",
    "**minsamples**: the minimum number of occurances of a given peak to be included in the aligned table."
   ]
  },
  {
   "cell_type": "code",
   "execution_count": null,
   "metadata": {},
   "outputs": [],
   "source": [
    "error=1\n",
    "minsamples=2"
   ]
  },
  {
   "cell_type": "markdown",
   "metadata": {},
   "source": [
    "## Second: Upload the file into the *input* folder and run the following cell"
   ]
  },
  {
   "cell_type": "code",
   "execution_count": null,
   "metadata": {
    "scrolled": true
   },
   "outputs": [],
   "source": [
    "from merge import *\n",
    "\n",
    "files = os.listdir(\"input\")\n",
    "for file in list(files):\n",
    "    if not file.endswith(\".xlsx\"):\n",
    "        files.remove(file)\n",
    "        \n",
    "for file in files:\n",
    "    \n",
    "    file = \"input/\"+file\n",
    "\n",
    "    xl = pd.ExcelFile(file)\n",
    "    \n",
    "    #### Define error and min samples #####\n",
    "    error=1\n",
    "    minsamples=2\n",
    "    #######################################\n",
    "\n",
    "    folder = \"output/\" + os.path.splitext(os.path.split(file)[1])[0]\n",
    "    \n",
    "    try:\n",
    "        os.mkdir(folder)\n",
    "    except:\n",
    "        pass\n",
    "    base_name = os.path.splitext(os.path.split(file)[1])[0]\n",
    "    name = folder+'/'+base_name\n",
    "    for sheet in xl.sheet_names:\n",
    "        print(\"\\nAligning \" + sheet +' at ' + str(error) + (' ppm'))\n",
    "        if len(pd.read_excel(file).columns)==2 or len(pd.read_excel(file).columns)==1:\n",
    "            print(\"\\nOnly 1 sample, no aligment needed...\")\n",
    "        else:\n",
    "            print ('Starting alingment...')\n",
    "            df = split_sample_label(merge(prep_table(file), error=error))\n",
    "            #Grava alinhado raw em .csv\n",
    "            df.swaplevel(axis=1).to_csv(name+'_aligned_'+sheet+\"_\"+str(error)+'ppm.csv', index=True, header=True)\n",
    "            cleaned = cleandf(df, minsamples=minsamples)\n",
    "            cleaned.to_csv(name+'_aligned_'+sheet+\"_\"+str(error)+'ppm_cleaned_'+str(minsamples)+'_min_samples'+'.csv', index=True, header=True)\n",
    "            print (sheet +' aligned at ' + str(error) + (' ppm'))\n",
    "            # round to 7 decimal places to match masstrix and sort the dataframe for futher analisys\n",
    "            cleaned.columns = cleaned.columns.droplevel(1)\n",
    "            cleaned = cleaned.reset_index()\n",
    "            cleaned['index'] = round(cleaned['index'], 7)\n",
    "    print()\n",
    "    print('All Finished!')\n"
   ]
  }
 ],
 "metadata": {
  "anaconda-cloud": {},
  "kernelspec": {
   "display_name": "Python 3",
   "language": "python",
   "name": "python3"
  },
  "language_info": {
   "codemirror_mode": {
    "name": "ipython",
    "version": 3
   },
   "file_extension": ".py",
   "mimetype": "text/x-python",
   "name": "python",
   "nbconvert_exporter": "python",
   "pygments_lexer": "ipython3",
   "version": "3.7.4"
  }
 },
 "nbformat": 4,
 "nbformat_minor": 1
}
